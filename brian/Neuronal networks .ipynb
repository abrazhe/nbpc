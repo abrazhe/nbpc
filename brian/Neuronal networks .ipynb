{
 "cells": [
  {
   "cell_type": "markdown",
   "metadata": {},
   "source": [
    "# Creating a network of AdEx neurons connected with synapses\n",
    "\n",
    "In this notebook we first investigate parameter space of the AdEx neuron models, then select candidates for future pyramidal and interneuron parameter sets.\n",
    "\n",
    "Next we create a network consisting of PCs and interneurons, which we connect by synapses with plasticity mechanisms. "
   ]
  },
  {
   "cell_type": "code",
   "execution_count": null,
   "metadata": {},
   "outputs": [],
   "source": [
    "%pylab inline"
   ]
  },
  {
   "cell_type": "code",
   "execution_count": null,
   "metadata": {
    "collapsed": true
   },
   "outputs": [],
   "source": [
    "style.use(('ggplot','seaborn-muted'))"
   ]
  },
  {
   "cell_type": "code",
   "execution_count": null,
   "metadata": {
    "collapsed": true
   },
   "outputs": [],
   "source": [
    "import pandas as pd"
   ]
  },
  {
   "cell_type": "code",
   "execution_count": null,
   "metadata": {
    "collapsed": true
   },
   "outputs": [],
   "source": [
    "from brian2 import *"
   ]
  },
  {
   "cell_type": "code",
   "execution_count": null,
   "metadata": {
    "collapsed": true
   },
   "outputs": [],
   "source": [
    "import input_factory as inpf"
   ]
  },
  {
   "cell_type": "code",
   "execution_count": null,
   "metadata": {
    "collapsed": true
   },
   "outputs": [],
   "source": [
    "def beautify_spikes(statemon,spikemon,neuron_id):\n",
    "    vm = statemon[neuron_id].v[:]\n",
    "    offset = statemon.t[0]#/defaultclock.dt\n",
    "    spike_times = spikemon.t[spikemon.i == neuron_id]\n",
    "    for t in spike_times:\n",
    "        i = int((t-offset) / defaultclock.dt)\n",
    "        vm[i] = 20*mV\n",
    "    return vm"
   ]
  },
  {
   "cell_type": "markdown",
   "metadata": {},
   "source": [
    "## AdEx neuron"
   ]
  },
  {
   "cell_type": "code",
   "execution_count": null,
   "metadata": {
    "collapsed": true
   },
   "outputs": [],
   "source": [
    "## Parameters that are shared by all neurons\n",
    "\n",
    "# Neurons\n",
    "Vth = -50*mV   # rheobase threshold\n",
    "El = -70*mV     # resting membrane potential\n",
    "Vcut = -20*mV    # spike detection threshold\n",
    "deltaT = 2*mV  # spike initiation sharpness\n",
    "Rin = 500*Mohm  # input resistance of a neuron at rest\n",
    "gl = 1/Rin\n",
    "\n",
    "\n",
    "\n",
    "# Synapses\n",
    "E_e = 0*mV     # Excitatory synaptic reversal potential (AMPA and NMDA receptors)\n",
    "E_i = -80*mV   # Inhibitory synaptic reversal potential (GABAA receptors)\n",
    "tau_e = 5*ms   # time scale of excitatory synaptic conductance\n",
    "tau_i = 10*ms  # time scale of excitatory synaptic conductance\n",
    "\n",
    "\n",
    "\n",
    "AdEx_equations = Equations('''\n",
    "dv/dt = (-(v-El) + deltaT*exp((v-Vth)/deltaT) + Rin*(Isyn + Ibias + Iapp - w))/tau_m : volt \n",
    "dw/dt = (a*(v-El) - w)/tau_w: amp  # adaptation variable\n",
    "a : siemens\n",
    "b : amp\n",
    "tau_m : second\n",
    "tau_w : second\n",
    "Vreset: volt\n",
    "stim_amp : 1\n",
    "Ibias : amp\n",
    "Iapp = stim_amp*input_current(t,i): amp\n",
    "''')\n",
    "\n",
    "# Synaptic input\n",
    "synaptic_equations = Equations(\"\"\"\n",
    "Isyn =  - g_e*(v-E_e) - g_i*(v-E_i) : amp\n",
    "dg_e/dt = -g_e/tau_e : siemens\n",
    "dg_i/dt = -g_i/tau_i : siemens\n",
    "\"\"\")"
   ]
  },
  {
   "cell_type": "code",
   "execution_count": null,
   "metadata": {},
   "outputs": [],
   "source": [
    "adex_params = pd.read_csv('adex_params.csv',index_col='type')\n",
    "adex_params"
   ]
  },
  {
   "cell_type": "code",
   "execution_count": null,
   "metadata": {
    "collapsed": true
   },
   "outputs": [],
   "source": [
    "def convert_table_cell(col_name):\n",
    "    units = col_name.split(' ')[1][1:-1]\n",
    "\n",
    "def convert_from_table(row):\n",
    "    return dict(\n",
    "        a = float(row['a [nS]'])*nS,\n",
    "        b = float(row['b [pA]'])*pA,\n",
    "        tau_w = float(row['tau_u [ms]'])*ms,\n",
    "        tau_m = float(row['tau_m [ms]'])*ms,\n",
    "        Vreset = float(row['Vreset [mV]'])*mV,\n",
    "        C = float(row['tau_m [ms]'])*ms*gl,\n",
    "        Ibias = 0*pA\n",
    "    )"
   ]
  },
  {
   "cell_type": "code",
   "execution_count": null,
   "metadata": {
    "collapsed": true
   },
   "outputs": [],
   "source": [
    "tonic_pars = convert_from_table(adex_params.loc['tonic'])\n",
    "adapting_pars = convert_from_table(adex_params.loc['adapting'])\n",
    "bursting_pars = convert_from_table(adex_params.loc['bursting'])\n",
    "initial_burst_pars = convert_from_table(adex_params.loc['init. burst'])\n",
    "irregular_pars = convert_from_table(adex_params.loc['irregular'])\n",
    "transient_pars = convert_from_table(adex_params.loc['transient'])\n",
    "delayed_pars = convert_from_table(adex_params.loc['delayed'])"
   ]
  },
  {
   "cell_type": "markdown",
   "metadata": {},
   "source": [
    "### Selecting exemplars of interneurons and PCs by Monte-Carlo\n",
    "\n",
    "Here we create a group of 10^4 neurons with random parameter values. Next we select only neurons with admissible behavior. "
   ]
  },
  {
   "cell_type": "code",
   "execution_count": null,
   "metadata": {
    "collapsed": true
   },
   "outputs": [],
   "source": [
    "start_scope()\n",
    "\n",
    "Nneurons = 10000\n",
    "\n",
    "defaultclock.dt = 0.1*ms\n",
    "\n",
    "G = NeuronGroup(Nneurons, AdEx_equations+synaptic_equations,threshold='v>Vcut', reset='v=Vreset; w += b',\n",
    "                method='exponential_euler')\n",
    "\n",
    "G.set_states(dict(v=El,w=0))\n",
    "\n",
    "M = StateMonitor(G, ['v','w'], record=True)\n",
    "S = SpikeMonitor(G,)"
   ]
  },
  {
   "cell_type": "code",
   "execution_count": null,
   "metadata": {
    "collapsed": true
   },
   "outputs": [],
   "source": [
    "G.a = uniform(-1,3,Nneurons)*nsiemens\n",
    "G.b = uniform(5,50,Nneurons)*pA\n",
    "G.tau_m = uniform(5,200,Nneurons)*ms\n",
    "G.tau_w = uniform(30,100,Nneurons)*ms\n",
    "G.Vreset = uniform(-60,-45,Nneurons)*mV\n",
    "G.Ibias = 'randn()*5*pA'\n",
    "\n",
    "# G.a = -0.5*nS\n",
    "# G.b = 7*pA\n",
    "# G.tau_m = 5*ms\n",
    "# G.tau_w = 100*ms\n",
    "# G.Vreset = -46*mV"
   ]
  },
  {
   "cell_type": "code",
   "execution_count": null,
   "metadata": {
    "collapsed": true
   },
   "outputs": [],
   "source": [
    "input_current = inpf.get_step_current(1000, 2000, 1*ms, 1.0*pA,Nneurons=Nneurons)"
   ]
  },
  {
   "cell_type": "code",
   "execution_count": null,
   "metadata": {
    "collapsed": true
   },
   "outputs": [],
   "source": [
    "store()"
   ]
  },
  {
   "cell_type": "code",
   "execution_count": null,
   "metadata": {},
   "outputs": [],
   "source": [
    "restore()\n",
    "G.stim_amp = 100\n",
    "%time run(5*second)"
   ]
  },
  {
   "cell_type": "code",
   "execution_count": null,
   "metadata": {},
   "outputs": [],
   "source": [
    "figure(figsize=(16,6))\n",
    "plot(S.t/ms, S.i, 'k,',lw=0.5)\n",
    "xlabel('time, ms')\n",
    "ylabel('neuron #')\n",
    "title('Raster plot for the neuron group during step current')"
   ]
  },
  {
   "cell_type": "code",
   "execution_count": null,
   "metadata": {},
   "outputs": [],
   "source": [
    "k = randint(Nneurons)\n",
    "plot(M.t, beautify_spikes(M,S,k)/mV)\n",
    "xlabel('time, s')\n",
    "ylabel('Vm, mV')\n",
    "title('membrane voltage of a randomly chosen neuron')"
   ]
  },
  {
   "cell_type": "code",
   "execution_count": null,
   "metadata": {},
   "outputs": [],
   "source": [
    "array([1/mean(diff((S.t[S.i==k])))])"
   ]
  },
  {
   "cell_type": "code",
   "execution_count": null,
   "metadata": {
    "collapsed": true
   },
   "outputs": [],
   "source": [
    "def validate_neurons(statemon,spikes,\n",
    "                     min_spiking_rate = 5*Hz,\n",
    "                     max_spiking_rate = 300*Hz,\n",
    "                     reject_restless_prob=0.5):\n",
    "    N = len(statemon.v)\n",
    "    invalid = any(abs(statemon.v[:,:])>200*mV,axis=1) + isnan(statemon.v.sum(1))\n",
    "    late_spikes = array([any(spikes.t[spikes.i==i]>3*second) for i in range(N)])\n",
    "    \n",
    "    rates = array([1/mean(diff(spikes.t[spikes.i==i]))/second if len(spikes.t[spikes.i==i])>2 else 0*Hz \n",
    "                   for i in range(N)])/second\n",
    "    invalid += (rates < min_spiking_rate)\n",
    "    invalid += (rates > max_spiking_rate)\n",
    "    invalid += (late_spikes)&(rand(N)<reject_restless_prob)\n",
    "    return ~invalid\n",
    "    "
   ]
  },
  {
   "cell_type": "code",
   "execution_count": null,
   "metadata": {},
   "outputs": [],
   "source": [
    "%time valid = validate_neurons(M,S)\n",
    "print(sum(valid)/Nneurons)"
   ]
  },
  {
   "cell_type": "code",
   "execution_count": null,
   "metadata": {
    "collapsed": true
   },
   "outputs": [],
   "source": [
    "k = where(valid)[0][randint(sum(valid))]"
   ]
  },
  {
   "cell_type": "code",
   "execution_count": null,
   "metadata": {},
   "outputs": [],
   "source": [
    "k,valid[k]"
   ]
  },
  {
   "cell_type": "code",
   "execution_count": null,
   "metadata": {},
   "outputs": [],
   "source": [
    "figure()\n",
    "plot(M.t/ms,beautify_spikes(M,S,k)/mV)\n",
    "xlabel('time , ms')\n",
    "ylabel('Vm, mV')"
   ]
  },
  {
   "cell_type": "code",
   "execution_count": null,
   "metadata": {
    "collapsed": true
   },
   "outputs": [],
   "source": [
    "def is_good_interneuron(statemon,spikes,k,min_rate=50*Hz,min_omega=5*Hz):\n",
    "    rate = 1/mean(diff(spikes.t[spikes.i==k])) if len(spikes.t[spikes.i==k])>2 else 0*Hz\n",
    "    aR = G.a[k]*Rin\n",
    "    tautau = G.tau_m[k]/G.tau_w[k]\n",
    "    omega = 4*(aR - 2*(1-tautau**2)/tautau)/G.tau_w[k]\n",
    "    return(rate>min_rate) and (omega>0.5*min_rate)\n",
    "\n",
    "def is_good_pyramidal(statemon,spikes,k,max_rate=25*Hz):\n",
    "    rate = 1/mean(diff(spikes.t[spikes.i==k])) if len(spikes.t[spikes.i==k])>2 else 0*Hz\n",
    "    aR = G.a[k]*Rin\n",
    "    tautau = G.tau_m[k]/G.tau_w[k]\n",
    "    omega = 4*(aR - 2*(1-tautau**2)/tautau)/G.tau_w[k]\n",
    "    return(rate<=max_rate) and (omega <= 0)"
   ]
  },
  {
   "cell_type": "code",
   "execution_count": null,
   "metadata": {},
   "outputs": [],
   "source": [
    "%time interneurons = array([is_good_interneuron(M,S,k) for k in range(Nneurons)])"
   ]
  },
  {
   "cell_type": "code",
   "execution_count": null,
   "metadata": {},
   "outputs": [],
   "source": [
    "%time pyramidals = array([is_good_pyramidal(M,S,k) for k in range(Nneurons)])"
   ]
  },
  {
   "cell_type": "code",
   "execution_count": null,
   "metadata": {
    "collapsed": true
   },
   "outputs": [],
   "source": [
    "acc = zeros((Nneurons,2))\n",
    "for k in range(Nneurons):\n",
    "    if valid[k]:\n",
    "        aR = G.a[k]*Rin\n",
    "        tautau = G.tau_m[k]/G.tau_w[k]\n",
    "        acc[k] = tautau,aR\n"
   ]
  },
  {
   "cell_type": "code",
   "execution_count": null,
   "metadata": {},
   "outputs": [],
   "source": [
    "plot(acc[interneurons][:,0],acc[interneurons][:,1],'b.')\n",
    "plot(acc[pyramidals][:,0],acc[pyramidals][:,1],'r.',alpha=0.1)\n",
    "xlabel('$\\\\tau_m/\\\\tau_w$')\n",
    "ylabel('aR')"
   ]
  },
  {
   "cell_type": "code",
   "execution_count": null,
   "metadata": {},
   "outputs": [],
   "source": [
    "sum(interneurons)/Nneurons, sum(pyramidals)/Nneurons"
   ]
  },
  {
   "cell_type": "code",
   "execution_count": null,
   "metadata": {
    "collapsed": true
   },
   "outputs": [],
   "source": [
    "interneuron_pars = dict(a=G.a[interneurons], b=G.b[interneurons],\n",
    "                        tau_w=G.tau_w[interneurons],tau_m=G.tau_m[interneurons],\n",
    "                        Ibias=G.Ibias[interneurons],\n",
    "                        Vreset = G.Vreset[interneurons])\n",
    "pyramidal_pars = dict(a=G.a[pyramidals], b=G.b[pyramidals],\n",
    "                        tau_w=G.tau_w[pyramidals],tau_m=G.tau_m[pyramidals],\n",
    "                        Ibias = G.Ibias[pyramidals],\n",
    "                        Vreset = G.Vreset[pyramidals])"
   ]
  },
  {
   "cell_type": "code",
   "execution_count": null,
   "metadata": {},
   "outputs": [],
   "source": [
    "len(interneuron_pars['a'])"
   ]
  },
  {
   "cell_type": "code",
   "execution_count": null,
   "metadata": {
    "collapsed": true
   },
   "outputs": [],
   "source": [
    "def sample_from_class(parameters,sigma=0.01):\n",
    "    N = len(parameters['a'])\n",
    "    k = randint(N)\n",
    "    multipliers = 1 + sigma*randn(10)\n",
    "    return dict(a = parameters['a'][k]*multipliers[0],\n",
    "                b = parameters['b'][k]*multipliers[1],\n",
    "                tau_m = parameters['tau_m'][k]*multipliers[2],\n",
    "                tau_w = parameters['tau_w'][k]*multipliers[3],\n",
    "                Vreset = parameters['Vreset'][k]*multipliers[4],\n",
    "                Ibias = parameters['Ibias'][k]*multipliers[5]\n",
    "               )\n"
   ]
  },
  {
   "cell_type": "code",
   "execution_count": null,
   "metadata": {
    "collapsed": true
   },
   "outputs": [],
   "source": [
    "def update_neuron_parameters(neurons, k, pars):\n",
    "    neurons.a[k] = pars['a']\n",
    "    neurons.b[k] = pars['b']\n",
    "    neurons.tau_m[k] = pars['tau_m']\n",
    "    neurons.tau_w[k] = pars['tau_w']\n",
    "    neurons.Vreset[k] = pars['Vreset']\n",
    "    neurons.Ibias[k] = pars['Ibias']"
   ]
  },
  {
   "cell_type": "code",
   "execution_count": null,
   "metadata": {
    "collapsed": true
   },
   "outputs": [],
   "source": [
    "def raster_spikes(spikemon,Nexc=None,ax=None,colors='rb'):\n",
    "    if ax is None:\n",
    "        f,ax = subplots(1,1)\n",
    "    if Nexc is None:\n",
    "        Nexc = max(spikemon.i)\n",
    "    exc_spikes = spikemon.i<Nexc\n",
    "    if any(exc_spikes):\n",
    "        ax.plot(spikemon.t[exc_spikes]/ms, spikemon.i[exc_spikes],',',c=colors[0])\n",
    "    if any(~exc_spikes):\n",
    "        ax.plot(spikemon.t[~exc_spikes]/ms, spikemon.i[~exc_spikes],',',c=colors[1])"
   ]
  },
  {
   "cell_type": "markdown",
   "metadata": {},
   "source": [
    "Here we create a source of \"natural\" drive to our future network in form of Poisson spike trains from 100 neurons"
   ]
  },
  {
   "cell_type": "code",
   "execution_count": null,
   "metadata": {
    "collapsed": true
   },
   "outputs": [],
   "source": [
    "start_scope()\n",
    "P = PoissonGroup(100,  'rand()*25*Hz')\n",
    "Sp = SpikeMonitor(P)"
   ]
  },
  {
   "cell_type": "code",
   "execution_count": null,
   "metadata": {
    "collapsed": true
   },
   "outputs": [],
   "source": [
    "run(5*second)"
   ]
  },
  {
   "cell_type": "code",
   "execution_count": null,
   "metadata": {},
   "outputs": [],
   "source": [
    "raster_spikes(Sp,100,colors='gg')"
   ]
  },
  {
   "cell_type": "markdown",
   "metadata": {},
   "source": [
    "## Now create a new network with 80% pyramidal cells and 20% interneurons\n",
    "\n",
    "Below we will create a model network with many principal (excitatory) neurons and a smaller amount of interneurons (inhibitory). A random subset of principal neurons will receive \"sensory\" input in form of Poisson spike trains.\n",
    "\n",
    "Neurons within the network will be connected with synapses havin both short-time plasticity (Tsodyks & Markram model) and spike-timing dependent plasticity (STDP)."
   ]
  },
  {
   "cell_type": "code",
   "execution_count": null,
   "metadata": {
    "collapsed": true
   },
   "outputs": [],
   "source": [
    "seed(4022)"
   ]
  },
  {
   "cell_type": "code",
   "execution_count": null,
   "metadata": {
    "collapsed": true
   },
   "outputs": [],
   "source": [
    "start_scope()\n",
    "\n",
    "\n",
    "Ninh = 1000\n",
    "Nexc = 4*Ninh\n",
    "\n",
    "\n",
    "Nneurons = Nexc + Ninh\n",
    "\n",
    "defaultclock.dt = 0.1*ms\n",
    "\n",
    "G = NeuronGroup(Nneurons, AdEx_equations+synaptic_equations,threshold='v>Vcut', reset='v=Vreset; w += b',\n",
    "                method='exponential_euler')\n",
    "\n",
    "G.set_states(dict(v=El,w=0))\n",
    "\n",
    "M = StateMonitor(G, ['v','w','g_e','g_i'], record=True)\n",
    "S = SpikeMonitor(G,)"
   ]
  },
  {
   "cell_type": "code",
   "execution_count": null,
   "metadata": {
    "collapsed": true
   },
   "outputs": [],
   "source": [
    "for k in range(Nneurons):\n",
    "    exemplar_parameters = pyramidal_pars if k < Nexc else interneuron_pars\n",
    "    #exemplar_parameters = pyramidal_pars# if k < Nexc else interneuron_pars\n",
    "    sigma = 0.05 if k < Nexc else 0.01\n",
    "    p = sample_from_class(exemplar_parameters,sigma)\n",
    "    update_neuron_parameters(G,k,adapting_pars)"
   ]
  },
  {
   "cell_type": "code",
   "execution_count": null,
   "metadata": {
    "collapsed": true
   },
   "outputs": [],
   "source": [
    "P = PoissonGroup(100,  'rand()*25*Hz')\n",
    "Sp = SpikeMonitor(P)"
   ]
  },
  {
   "cell_type": "code",
   "execution_count": null,
   "metadata": {
    "collapsed": true
   },
   "outputs": [],
   "source": []
  },
  {
   "cell_type": "code",
   "execution_count": null,
   "metadata": {
    "collapsed": true
   },
   "outputs": [],
   "source": []
  },
  {
   "cell_type": "markdown",
   "metadata": {},
   "source": [
    "### Setting up synaptic connections"
   ]
  },
  {
   "cell_type": "code",
   "execution_count": null,
   "metadata": {
    "collapsed": true
   },
   "outputs": [],
   "source": [
    "tau_ps = 0.8*second   # facilitation timescale\n",
    "tau_ns = 1.5*second   # replenishing timescale\n",
    "tau_stdp = 20*ms     # STDP time constant\n",
    "\n",
    "p_s0 = 0.6            # ground-state probability of release\n",
    "epsilon = 0.05        # sparsity synaptic connectivity\n",
    "\n",
    "Apre0 = 0.01\n",
    "Apost0 = -Apre0*1.05\n",
    "\n",
    "w_e = 20*0.05*nS\n",
    "w_i = 20*1*nS\n",
    "\n",
    "stdp_value = 0 # change between 0 and 1\n",
    "\n",
    "tm_plasticity_model = Equations('''\n",
    "dp_s/dt = (p_s0-p_s)/tau_ps : 1 (event-driven)    # release probability\n",
    "dn_s/dt = (1-n_s)/tau_ns   : 1    (event-driven)    # fraction of resources available\n",
    "''')\n",
    "\n",
    "stdp_model=Equations('''\n",
    "dApre/dt = -Apre/tau_stdp : 1 (event-driven)    # STDP\n",
    "dApost/dt = -Apost/tau_stdp : 1(event-driven)   # STDP\n",
    "w_syn: 1\n",
    "''')\n",
    "\n",
    "plasticity_action_pre='''\n",
    "p_s += p_s0*(1-p_s) # facilitation\n",
    "r_s = p_s*n_s       # probability of release\n",
    "n_s -= r_s          # depletion\n",
    "'''\n",
    "\n",
    "stdp_action_pre='''\n",
    "Apre += Apre0\n",
    "'''\n",
    "\n",
    "stdp_action_post='''\n",
    "Apost += Apost0\n",
    "'''\n",
    "\n",
    "\n",
    "pre_actions_e = '''\n",
    "w_syn = clip(w_syn+Apost, (1-stdp_value)*w_e/nS, w_e/nS) \n",
    "g_e_post += w_syn*r_s*nS\n",
    "'''\n",
    "pre_actions_i = '''\n",
    "w_syn = clip(w_syn+Apost, (1-stdp_value)*w_i/nS, w_i/nS) \n",
    "g_i_post += w_syn*r_s*nS\n",
    "'''\n",
    "\n",
    "post_actions_e='''\n",
    "w_syn = clip(w_syn+Apre,(1-stdp_value)*w_e/nS,w_e/nS)\n",
    "'''\n",
    "\n",
    "post_actions_i='''\n",
    "w_syn = clip(w_syn+Apre,(1-stdp_value)*w_i/nS,w_i/nS)\n",
    "'''"
   ]
  },
  {
   "cell_type": "code",
   "execution_count": null,
   "metadata": {
    "collapsed": true
   },
   "outputs": [],
   "source": []
  },
  {
   "cell_type": "code",
   "execution_count": null,
   "metadata": {
    "collapsed": true
   },
   "outputs": [],
   "source": [
    "S_exc = Synapses(G[:Nexc],G, model=tm_plasticity_model+stdp_model,\n",
    "                 on_pre=plasticity_action_pre+stdp_action_pre+pre_actions_e,\n",
    "                 on_post=stdp_action_post+post_actions_e)\n",
    "\n",
    "                \n",
    "S_inh = Synapses(G[Nexc:],G, model=tm_plasticity_model+stdp_model,\n",
    "                 on_pre=plasticity_action_pre+stdp_action_pre+pre_actions_i,\n",
    "                 on_post=stdp_action_post+post_actions_i)\n",
    "\n",
    "\n",
    "S_input = Synapses(P,G[:Nexc],model=tm_plasticity_model,\n",
    "                 on_pre=plasticity_action_pre+'g_e_post += 10*w_e*r_s')\n"
   ]
  },
  {
   "cell_type": "code",
   "execution_count": null,
   "metadata": {},
   "outputs": [],
   "source": [
    "%%time \n",
    "\n",
    "S_input.connect(p=0.1)\n",
    "\n",
    "S_exc.connect(p=epsilon)\n",
    "S_exc.delay = '10*ms + 0.1*randn()*ms'\n",
    "\n",
    "S_inh.connect(p=2*epsilon)\n",
    "S_inh.delay = '10*ms + 0.1*randn()*ms'\n",
    "\n",
    "for s in (S_exc,S_inh):\n",
    "    s.p_s = p_s0\n",
    "    s.n_s = 1.0"
   ]
  },
  {
   "cell_type": "code",
   "execution_count": null,
   "metadata": {
    "collapsed": true
   },
   "outputs": [],
   "source": [
    "S_input.active=True\n",
    "S_exc.active=False\n",
    "S_inh.active=False"
   ]
  },
  {
   "cell_type": "code",
   "execution_count": null,
   "metadata": {
    "collapsed": true
   },
   "outputs": [],
   "source": [
    "net = Network(G,P,M,S,Sp,S_exc,S_inh,S_input)"
   ]
  },
  {
   "cell_type": "code",
   "execution_count": null,
   "metadata": {
    "collapsed": true
   },
   "outputs": [],
   "source": [
    "net.store()"
   ]
  },
  {
   "cell_type": "code",
   "execution_count": null,
   "metadata": {
    "collapsed": true
   },
   "outputs": [],
   "source": []
  },
  {
   "cell_type": "code",
   "execution_count": null,
   "metadata": {
    "collapsed": true
   },
   "outputs": [],
   "source": [
    "input_current = inpf.get_step_current(1000, 6000, 1*ms, 1.0*pA,Nneurons=Nneurons)"
   ]
  },
  {
   "cell_type": "code",
   "execution_count": null,
   "metadata": {
    "collapsed": true
   },
   "outputs": [],
   "source": [
    "net.restore()\n",
    "S_input.active=True\n",
    "S_exc.active=False\n",
    "S_inh.active=False\n",
    "G.stim_amp = 25"
   ]
  },
  {
   "cell_type": "code",
   "execution_count": null,
   "metadata": {},
   "outputs": [],
   "source": [
    "%time net.run(10*second,report='text')"
   ]
  },
  {
   "cell_type": "code",
   "execution_count": null,
   "metadata": {},
   "outputs": [],
   "source": [
    "%time valid = validate_neurons(M,S)\n",
    "print(sum(valid)/Nneurons)"
   ]
  },
  {
   "cell_type": "code",
   "execution_count": null,
   "metadata": {},
   "outputs": [],
   "source": [
    "f,axs = subplots(2,1,sharex=True,figsize=(16,8),gridspec_kw=dict(height_ratios=(5,1)))\n",
    "raster_spikes(S,Nexc,axs[0])\n",
    "axs[0].set_ylim(0,Nneurons)\n",
    "raster_spikes(Sp,100,axs[1],colors='gg')\n",
    "xlim(M.t[0]/ms,M.t[-1]/ms)"
   ]
  },
  {
   "cell_type": "code",
   "execution_count": null,
   "metadata": {},
   "outputs": [],
   "source": [
    "k = randint(Nexc)\n",
    "plot(M.t/ms, beautify_spikes(M,S,k))"
   ]
  },
  {
   "cell_type": "code",
   "execution_count": null,
   "metadata": {},
   "outputs": [],
   "source": [
    "k = randint(Nexc)\n",
    "plot(M.t/ms, M.g_e[k]/nS)"
   ]
  },
  {
   "cell_type": "markdown",
   "metadata": {},
   "source": [
    "### Turn on the synapses"
   ]
  },
  {
   "cell_type": "code",
   "execution_count": null,
   "metadata": {
    "collapsed": true
   },
   "outputs": [],
   "source": [
    "net.restore()\n",
    "stdp_value = 0.5 # change between 0 and 1"
   ]
  },
  {
   "cell_type": "code",
   "execution_count": null,
   "metadata": {
    "collapsed": true
   },
   "outputs": [],
   "source": [
    "S_exc.active=True\n",
    "S_inh.active=True"
   ]
  },
  {
   "cell_type": "code",
   "execution_count": null,
   "metadata": {},
   "outputs": [],
   "source": [
    "G.stim_amp = 25\n",
    "\n",
    "%time net.run(10*second,report='text')"
   ]
  },
  {
   "cell_type": "code",
   "execution_count": null,
   "metadata": {},
   "outputs": [],
   "source": [
    "f,axs = subplots(2,1,sharex=True,figsize=(16,8),gridspec_kw=dict(height_ratios=(5,1)))\n",
    "\n",
    "raster_spikes(S,Nexc,axs[0])\n",
    "raster_spikes(Sp,100,axs[1],colors='gg')\n",
    "\n",
    "axs[0].set_ylim(0,Nneurons)\n",
    "\n",
    "xlim(M.t[0]/ms,M.t[-1]/ms)\n",
    "axs[0].set_ylabel('# neuron')\n",
    "xlabel('time')\n",
    "ylabel('# Poisson generator')"
   ]
  },
  {
   "cell_type": "code",
   "execution_count": null,
   "metadata": {},
   "outputs": [],
   "source": [
    "k = randint(Ninh)+Nexc\n",
    "print(k)\n",
    "plot(M.t/ms, beautify_spikes(M,S,k)/mV)"
   ]
  },
  {
   "cell_type": "code",
   "execution_count": null,
   "metadata": {},
   "outputs": [],
   "source": [
    "plot(M.t/ms, M.g_e[k]/nS)"
   ]
  },
  {
   "cell_type": "code",
   "execution_count": null,
   "metadata": {
    "collapsed": true
   },
   "outputs": [],
   "source": []
  },
  {
   "cell_type": "code",
   "execution_count": null,
   "metadata": {
    "collapsed": true
   },
   "outputs": [],
   "source": []
  },
  {
   "cell_type": "code",
   "execution_count": null,
   "metadata": {
    "collapsed": true
   },
   "outputs": [],
   "source": []
  },
  {
   "cell_type": "code",
   "execution_count": null,
   "metadata": {
    "collapsed": true
   },
   "outputs": [],
   "source": []
  },
  {
   "cell_type": "code",
   "execution_count": null,
   "metadata": {
    "collapsed": true
   },
   "outputs": [],
   "source": []
  },
  {
   "cell_type": "code",
   "execution_count": null,
   "metadata": {
    "collapsed": true
   },
   "outputs": [],
   "source": []
  }
 ],
 "metadata": {
  "kernelspec": {
   "display_name": "Python 3",
   "language": "python",
   "name": "python3"
  },
  "language_info": {
   "codemirror_mode": {
    "name": "ipython",
    "version": 3
   },
   "file_extension": ".py",
   "mimetype": "text/x-python",
   "name": "python",
   "nbconvert_exporter": "python",
   "pygments_lexer": "ipython3",
   "version": "3.6.3"
  }
 },
 "nbformat": 4,
 "nbformat_minor": 2
}
